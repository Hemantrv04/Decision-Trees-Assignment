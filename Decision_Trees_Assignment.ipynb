{
  "nbformat": 4,
  "nbformat_minor": 0,
  "metadata": {
    "colab": {
      "provenance": []
    },
    "kernelspec": {
      "name": "python3",
      "display_name": "Python 3"
    },
    "language_info": {
      "name": "python"
    }
  },
  "cells": [
    {
      "cell_type": "markdown",
      "source": [
        "# Decision Trees Assignment"
      ],
      "metadata": {
        "id": "TAPutBfmZ9ji"
      }
    },
    {
      "cell_type": "markdown",
      "source": [
        "1. What is a Decision Tree, and how does it work?\n",
        "\n",
        "Answer:\n",
        "A Decision Tree is a supervised learning algorithm used for both classification and regression.\n",
        "It works by recursively splitting the dataset into subsets based on feature values, forming a tree structure where each internal node represents a feature, each branch represents a decision, and each leaf node represents an outcome."
      ],
      "metadata": {
        "id": "FQD1xWogZ9Yk"
      }
    },
    {
      "cell_type": "markdown",
      "source": [
        "2. What are impurity measures in Decision Trees?\n",
        "\n",
        "Answer:\n",
        "Impurity measures quantify how mixed the classes are in a node.\n",
        "Common impurity measures include:\n",
        "\n",
        "Gini Impurity\n",
        "\n",
        "Entropy\n",
        "\n",
        "Classification Error\n",
        "They are used to decide the best feature to split the data."
      ],
      "metadata": {
        "id": "-szP6rVVZ9Oo"
      }
    },
    {
      "cell_type": "markdown",
      "source": [
        "3. What is the mathematical formula for Gini Impurity?\n",
        "\n",
        "Answer:\n",
        "\n",
        "𝐺\n",
        "𝑖\n",
        "𝑛\n",
        "𝑖\n",
        "=\n",
        "1\n",
        "−\n",
        "∑\n",
        "𝑖\n",
        "=\n",
        "1\n",
        "𝐶\n",
        "(\n",
        "𝑝\n",
        "𝑖\n",
        ")^\n",
        "2\n",
        "\n",
        "\n",
        "Where\n",
        "𝑝\n",
        "𝑖\n",
        "p\n",
        "i\n",
        "​\n",
        "  is the probability of class\n",
        "𝑖\n",
        "i in a node."
      ],
      "metadata": {
        "id": "93IPxM8XZ9Cf"
      }
    },
    {
      "cell_type": "markdown",
      "source": [
        "4. What is the mathematical formula for Entropy?\n",
        "Answer:\n",
        "\n",
        "𝐸\n",
        "𝑛\n",
        "𝑡\n",
        "𝑟\n",
        "𝑜\n",
        "𝑝\n",
        "𝑦\n",
        "=\n",
        "−\n",
        "∑\n",
        "𝑖\n",
        "=\n",
        "1\n",
        "𝐶\n",
        "𝑝\n",
        "𝑖\n",
        "log\n",
        "⁡\n",
        "2\n",
        "(\n",
        "𝑝\n",
        "𝑖\n",
        ")\n",
        "\n",
        "Where\n",
        "𝑝\n",
        "𝑖\n",
        "p\n",
        "i\n",
        "​\n",
        "  is the probability of class\n",
        "𝑖\n",
        "i in a node.\n",
        "\n"
      ],
      "metadata": {
        "id": "ErSaYsmvZ83j"
      }
    },
    {
      "cell_type": "markdown",
      "source": [
        "5. What is Information Gain, and how is it used in Decision Trees?\n",
        "\n",
        "Answer:\n",
        "Information Gain measures the reduction in impurity after a split.\n",
        "It is calculated as:\n",
        "\n",
        "𝐼\n",
        "𝑛\n",
        "𝑓\n",
        "𝑜\n",
        "𝑟\n",
        "𝑚\n",
        "𝑎\n",
        "𝑡\n",
        "𝑖\n",
        "𝑜\n",
        "𝑛\n",
        "\n",
        "𝐺\n",
        "𝑎\n",
        "𝑖\n",
        "𝑛\n",
        "=\n",
        "𝐸\n",
        "𝑛\n",
        "𝑡\n",
        "𝑟\n",
        "𝑜\n",
        "𝑝\n",
        "𝑦\n",
        "(\n",
        "𝑝\n",
        "𝑎\n",
        "𝑟\n",
        "𝑒\n",
        "𝑛\n",
        "𝑡\n",
        ")\n",
        "−\n",
        "∑\n",
        "𝑘\n",
        "𝑛\n",
        "𝑘\n",
        "𝑛\n",
        "𝐸\n",
        "𝑛\n",
        "𝑡\n",
        "𝑟\n",
        "𝑜\n",
        "𝑝\n",
        "𝑦\n",
        "(\n",
        "𝑘\n",
        ")\n",
        "\n",
        "where\n",
        "𝑛\n",
        "𝑘\n",
        "n\n",
        "k\n",
        "​\n",
        "  is the number of samples in child node\n",
        "𝑘\n",
        "k and\n",
        "𝑛\n",
        "n is the total samples in the parent node.\n",
        "Decision Trees use Information Gain to choose the best feature for splitting."
      ],
      "metadata": {
        "id": "SD-c0cWMZ8vc"
      }
    },
    {
      "cell_type": "markdown",
      "source": [
        "6. What is the difference between Gini Impurity and Entropy?\n",
        "\n",
        "Answer:\n",
        "\n",
        "Gini Impurity focuses on how often a randomly chosen element would be incorrectly labeled.\n",
        "\n",
        "Entropy measures the amount of information needed to describe the class distribution.\n",
        "\n",
        "Both are used to measure node purity, but Gini is computationally simpler and faster, while Entropy has a stronger theoretical foundation."
      ],
      "metadata": {
        "id": "id4OwWADZ8mY"
      }
    },
    {
      "cell_type": "markdown",
      "source": [
        "7. What is the mathematical explanation behind Decision Trees?\n",
        "\n",
        "Answer:\n",
        "Decision Trees recursively divide the feature space into regions by selecting features and thresholds that maximize Information Gain or minimize Gini Impurity.\n",
        "At each step, the algorithm evaluates all possible splits and chooses the one that best reduces impurity."
      ],
      "metadata": {
        "id": "xarzCqE-Z8eB"
      }
    },
    {
      "cell_type": "markdown",
      "source": [
        "8. What is Pre-Pruning in Decision Trees?\n",
        "\n",
        "Answer:\n",
        "Pre-Pruning (also called Early Stopping) stops the tree growth early during training by setting constraints like:\n",
        "\n",
        "Maximum depth\n",
        "\n",
        "Minimum samples per leaf\n",
        "\n",
        "Minimum impurity decrease\n",
        "It helps to prevent overfitting.\n",
        "\n"
      ],
      "metadata": {
        "id": "SKeqtEAsZ8UT"
      }
    },
    {
      "cell_type": "markdown",
      "source": [
        "9. What is Post-Pruning in Decision Trees?\n",
        "\n",
        "Answer:\n",
        "Post-Pruning (also called Cost Complexity Pruning) grows the full tree first and then prunes nodes that do not improve the model's generalization, based on a validation set or cross-validation performance."
      ],
      "metadata": {
        "id": "8FG1PSfnZ8L1"
      }
    },
    {
      "cell_type": "markdown",
      "source": [
        "10. What is the difference between Pre-Pruning and Post-Pruning?\n",
        "\n",
        "Answer:\n",
        "\n",
        "Pre-Pruning: Stops the tree from growing too deep at training time.\n",
        "\n",
        "Post-Pruning: Allows full growth first, then cuts unnecessary branches afterward.\n",
        "\n",
        "Post-Pruning often leads to better model performance but is computationally more expensive.\n",
        "\n"
      ],
      "metadata": {
        "id": "pmz-OsoMZ8CM"
      }
    },
    {
      "cell_type": "markdown",
      "source": [
        "11. What is a Decision Tree Regressor?\n",
        "\n",
        "Answer:\n",
        "A Decision Tree Regressor is a variant of Decision Trees used for regression tasks.\n",
        "Instead of predicting a class label, it predicts a continuous value by splitting data to minimize variance within splits."
      ],
      "metadata": {
        "id": "WS00N1ApZ75m"
      }
    },
    {
      "cell_type": "markdown",
      "source": [
        "12. What are the advantages and disadvantages of Decision Trees?\n",
        "\n",
        "Answer:\n",
        "Advantages:\n",
        "\n",
        "Easy to understand and interpret\n",
        "\n",
        "No need for feature scaling\n",
        "\n",
        "Can handle both numerical and categorical data\n",
        "\n",
        "Able to model non-linear relationships\n",
        "\n",
        "Disadvantages:\n",
        "\n",
        "Prone to overfitting\n",
        "\n",
        "Sensitive to small changes in data\n",
        "\n",
        "Greedy algorithm may not always find the optimal tree\n",
        "\n"
      ],
      "metadata": {
        "id": "6DjWq6OJZ7v-"
      }
    },
    {
      "cell_type": "markdown",
      "source": [
        "13. How does a Decision Tree handle missing values?\n",
        "\n",
        "Answer:\n",
        "Decision Trees can handle missing values by:\n",
        "\n",
        "Using surrogate splits (alternative features when main feature is missing)\n",
        "\n",
        "Assigning missing instances to the branch with the majority of training samples"
      ],
      "metadata": {
        "id": "zQ7L9iMPZ7mF"
      }
    },
    {
      "cell_type": "markdown",
      "source": [
        "14. How does a Decision Tree handle categorical features?\n",
        "\n",
        "Answer:\n",
        "Categorical features are handled by splitting on each category or a subset of categories.\n",
        "For binary splits, it tries combinations of categories to find the best impurity reduction."
      ],
      "metadata": {
        "id": "fteQHSXnZ7b7"
      }
    },
    {
      "cell_type": "markdown",
      "source": [
        "15. What are some real-world applications of Decision Trees?\n",
        "\n",
        "Answer:\n",
        "\n",
        "Medical diagnosis (e.g., disease prediction)\n",
        "\n",
        "Credit scoring and risk assessment\n",
        "\n",
        "Customer churn prediction\n",
        "\n",
        "Fraud detection\n",
        "\n",
        "Loan approval systems\n",
        "\n"
      ],
      "metadata": {
        "id": "LQ4KjxQwZ674"
      }
    },
    {
      "cell_type": "markdown",
      "source": [
        "# Decision Tree Practical Programs"
      ],
      "metadata": {
        "id": "rkZ6vb0EcCe_"
      }
    },
    {
      "cell_type": "code",
      "source": [
        "# 1. Write a Python program to train a Decision Tree Classifier on the Iris dataset and print the model accuracy.\n",
        "\n",
        "from sklearn.datasets import load_iris\n",
        "from sklearn.tree import DecisionTreeClassifier\n",
        "from sklearn.model_selection import train_test_split\n",
        "from sklearn.metrics import accuracy_score\n",
        "\n",
        "# Load Iris dataset\n",
        "iris = load_iris()\n",
        "X, y = iris.data, iris.target\n",
        "\n",
        "# Split dataset\n",
        "X_train, X_test, y_train, y_test = train_test_split(X, y, test_size=0.3, random_state=42)\n",
        "\n",
        "# Train Decision Tree\n",
        "model = DecisionTreeClassifier()\n",
        "model.fit(X_train, y_train)\n",
        "\n",
        "# Predict and evaluate\n",
        "y_pred = model.predict(X_test)\n",
        "print(\"Decision Tree Classifier Accuracy:\", accuracy_score(y_test, y_pred))\n"
      ],
      "metadata": {
        "colab": {
          "base_uri": "https://localhost:8080/"
        },
        "id": "mdPHs52ccB8D",
        "outputId": "796829c7-244c-4c4f-ac84-d86608658953"
      },
      "execution_count": 1,
      "outputs": [
        {
          "output_type": "stream",
          "name": "stdout",
          "text": [
            "Decision Tree Classifier Accuracy: 1.0\n"
          ]
        }
      ]
    },
    {
      "cell_type": "code",
      "execution_count": 2,
      "metadata": {
        "colab": {
          "base_uri": "https://localhost:8080/"
        },
        "id": "Ckrbj_ArZ4fd",
        "outputId": "35280648-d9eb-4d19-9617-b63d00c08968"
      },
      "outputs": [
        {
          "output_type": "stream",
          "name": "stdout",
          "text": [
            "Feature Importances (Gini): [0.01911002 0.         0.08757679 0.89331319]\n"
          ]
        }
      ],
      "source": [
        "# 2. Write a Python program to train a Decision Tree Classifier using Gini Impurity as the criterion and print the feature importances.\n",
        "\n",
        "model_gini = DecisionTreeClassifier(criterion='gini')\n",
        "model_gini.fit(X_train, y_train)\n",
        "\n",
        "# Feature Importances\n",
        "importances = model_gini.feature_importances_\n",
        "print(\"Feature Importances (Gini):\", importances)\n"
      ]
    },
    {
      "cell_type": "code",
      "source": [
        "# 3. Write a Python program to train a Decision Tree Classifier using Entropy as the splitting criterion and print the model accuracy.\n",
        "\n",
        "model_entropy = DecisionTreeClassifier(criterion='entropy')\n",
        "model_entropy.fit(X_train, y_train)\n",
        "\n",
        "y_pred_entropy = model_entropy.predict(X_test)\n",
        "print(\"Decision Tree (Entropy) Accuracy:\", accuracy_score(y_test, y_pred_entropy))\n"
      ],
      "metadata": {
        "colab": {
          "base_uri": "https://localhost:8080/"
        },
        "id": "lmqgk1q1Z5IH",
        "outputId": "cb74de03-a3bf-4e2c-f917-a16cd73686b1"
      },
      "execution_count": 3,
      "outputs": [
        {
          "output_type": "stream",
          "name": "stdout",
          "text": [
            "Decision Tree (Entropy) Accuracy: 0.9777777777777777\n"
          ]
        }
      ]
    },
    {
      "cell_type": "code",
      "source": [
        "# 4. Write a Python program to train a Decision Tree Regressor on a housing dataset and evaluate using Mean Squared Error (MSE).\n",
        "\n",
        "from sklearn.datasets import fetch_california_housing\n",
        "from sklearn.tree import DecisionTreeRegressor\n",
        "from sklearn.metrics import mean_squared_error\n",
        "\n",
        "# Load dataset\n",
        "housing = fetch_california_housing()\n",
        "X, y = housing.data, housing.target\n",
        "\n",
        "# Split dataset\n",
        "X_train, X_test, y_train, y_test = train_test_split(X, y, test_size=0.3, random_state=42)\n",
        "\n",
        "# Train Decision Tree Regressor\n",
        "regressor = DecisionTreeRegressor()\n",
        "regressor.fit(X_train, y_train)\n",
        "\n",
        "# Predict and evaluate\n",
        "y_pred = regressor.predict(X_test)\n",
        "print(\"Decision Tree Regressor MSE:\", mean_squared_error(y_test, y_pred))\n"
      ],
      "metadata": {
        "colab": {
          "base_uri": "https://localhost:8080/"
        },
        "id": "EHCmOJY_cYJk",
        "outputId": "92cc3245-07b8-471c-d837-b6c99504b148"
      },
      "execution_count": 4,
      "outputs": [
        {
          "output_type": "stream",
          "name": "stdout",
          "text": [
            "Decision Tree Regressor MSE: 0.5300387449558462\n"
          ]
        }
      ]
    },
    {
      "cell_type": "code",
      "source": [
        "# 5. Write a Python program to train a Decision Tree Classifier and visualize the tree using graphviz.\n",
        "\n",
        "from sklearn.tree import export_graphviz\n",
        "import graphviz\n",
        "from sklearn.datasets import load_iris # Import load_iris\n",
        "from sklearn.model_selection import train_test_split # Import train_test_split\n",
        "\n",
        "# Load the Iris dataset again to get the correct X and y\n",
        "iris = load_iris()\n",
        "X, y = iris.data, iris.target\n",
        "\n",
        "# Re-split the dataset using the Iris data\n",
        "X_train, X_test, y_train, y_test = train_test_split(X, y, test_size=0.3, random_state=42)\n",
        "\n",
        "# Train\n",
        "model = DecisionTreeClassifier()\n",
        "model.fit(X_train, y_train)\n",
        "\n",
        "# Export tree\n",
        "dot_data = export_graphviz(model, out_file=None, feature_names=iris.feature_names, class_names=iris.target_names, filled=True)\n",
        "graph = graphviz.Source(dot_data)\n",
        "graph.render(\"decision_tree\")  # Will save as decision_tree.pdf\n",
        "graph.view()"
      ],
      "metadata": {
        "colab": {
          "base_uri": "https://localhost:8080/",
          "height": 36
        },
        "id": "XAlHLx3jcYAL",
        "outputId": "423ef6d3-64bf-4423-8eb3-9ce034b1d50f"
      },
      "execution_count": 10,
      "outputs": [
        {
          "output_type": "execute_result",
          "data": {
            "text/plain": [
              "'decision_tree.pdf'"
            ],
            "application/vnd.google.colaboratory.intrinsic+json": {
              "type": "string"
            }
          },
          "metadata": {},
          "execution_count": 10
        }
      ]
    },
    {
      "cell_type": "code",
      "source": [
        "# 6. Write a Python program to train a Decision Tree Classifier with a maximum depth of 3 and compare its accuracy with a fully grown tree.\n",
        "# Load Iris dataset (if not already loaded)\n",
        "from sklearn.datasets import load_iris\n",
        "iris = load_iris()\n",
        "X, y = iris.data, iris.target\n",
        "# Split dataset (if not already split)\n",
        "from sklearn.model_selection import train_test_split\n",
        "X_train, X_test, y_train, y_test = train_test_split(X, y, test_size=0.3, random_state=42)\n",
        "from sklearn.tree import DecisionTreeClassifier\n",
        "\n",
        "# Max depth 3\n",
        "model_depth3 = DecisionTreeClassifier(max_depth=3)\n",
        "model_depth3.fit(X_train, y_train)\n",
        "acc_depth3 = model_depth3.score(X_test, y_test)\n",
        "\n",
        "# Fully grown\n",
        "model_full = DecisionTreeClassifier()\n",
        "model_full.fit(X_train, y_train)\n",
        "acc_full = model_full.score(X_test, y_test)\n",
        "\n",
        "print(f\"Accuracy with max_depth=3: {acc_depth3}\")\n",
        "print(f\"Accuracy with fully grown tree: {acc_full}\")"
      ],
      "metadata": {
        "colab": {
          "base_uri": "https://localhost:8080/"
        },
        "id": "jD2wCaHtcX3R",
        "outputId": "5c1a6ffc-7e19-46e0-8769-b21284a23cde"
      },
      "execution_count": 9,
      "outputs": [
        {
          "output_type": "stream",
          "name": "stdout",
          "text": [
            "Accuracy with max_depth=3: 1.0\n",
            "Accuracy with fully grown tree: 1.0\n"
          ]
        }
      ]
    },
    {
      "cell_type": "code",
      "source": [
        "# 7. Write a Python program to train a Decision Tree Classifier using min_samples_split=5 and compare its accuracy with a default tree.\n",
        "# Load Iris dataset (if not already loaded)\n",
        "from sklearn.datasets import load_iris\n",
        "iris = load_iris()\n",
        "X, y = iris.data, iris.target\n",
        "# Split dataset (if not already split)\n",
        "from sklearn.model_selection import train_test_split\n",
        "X_train, X_test, y_train, y_test = train_test_split(X, y, test_size=0.3, random_state=42)\n",
        "\n",
        "from sklearn.tree import DecisionTreeClassifier\n",
        "# Min samples split = 5\n",
        "model_split5 = DecisionTreeClassifier(min_samples_split=5)\n",
        "model_split5.fit(X_train, y_train) # y_train should contain discrete class labels for a classifier.\n",
        "acc_split5 = model_split5.score(X_test, y_test)\n",
        "\n",
        "# Default tree\n",
        "model_default = DecisionTreeClassifier()\n",
        "model_default.fit(X_train, y_train)\n",
        "acc_default = model_default.score(X_test, y_test)\n",
        "\n",
        "print(f\"Accuracy with min_samples_split=5: {acc_split5}\")\n",
        "print(f\"Accuracy with default tree: {acc_default}\")"
      ],
      "metadata": {
        "colab": {
          "base_uri": "https://localhost:8080/"
        },
        "id": "a1JF4F-dcXt-",
        "outputId": "03d89c95-13bd-4b77-89af-830382dfdac6"
      },
      "execution_count": 8,
      "outputs": [
        {
          "output_type": "stream",
          "name": "stdout",
          "text": [
            "Accuracy with min_samples_split=5: 1.0\n",
            "Accuracy with default tree: 1.0\n"
          ]
        }
      ]
    },
    {
      "cell_type": "code",
      "source": [
        "# 8. Write a Python program to apply feature scaling before training a Decision Tree Classifier and compare its accuracy with unscaled data.\n",
        "\n",
        "from sklearn.preprocessing import StandardScaler\n",
        "\n",
        "# Without scaling\n",
        "model_unscaled = DecisionTreeClassifier()\n",
        "model_unscaled.fit(X_train, y_train)\n",
        "acc_unscaled = model_unscaled.score(X_test, y_test)\n",
        "\n",
        "# With scaling (note: scaling not needed for trees but still testing)\n",
        "scaler = StandardScaler()\n",
        "X_train_scaled = scaler.fit_transform(X_train)\n",
        "X_test_scaled = scaler.transform(X_test)\n",
        "\n",
        "model_scaled = DecisionTreeClassifier()\n",
        "model_scaled.fit(X_train_scaled, y_train)\n",
        "acc_scaled = model_scaled.score(X_test_scaled, y_test)\n",
        "\n",
        "print(f\"Accuracy without scaling: {acc_unscaled}\")\n",
        "print(f\"Accuracy with scaling: {acc_scaled}\")\n"
      ],
      "metadata": {
        "colab": {
          "base_uri": "https://localhost:8080/"
        },
        "id": "xpFaFhIlcXlF",
        "outputId": "f6b789f9-29b1-49f1-b09a-ca438ec31414"
      },
      "execution_count": 11,
      "outputs": [
        {
          "output_type": "stream",
          "name": "stdout",
          "text": [
            "Accuracy without scaling: 1.0\n",
            "Accuracy with scaling: 1.0\n"
          ]
        }
      ]
    },
    {
      "cell_type": "code",
      "source": [
        "# 9. Write a Python program to train a Decision Tree Classifier using One-vs-Rest (OvR) strategy for multiclass classification.\n",
        "\n",
        "from sklearn.multiclass import OneVsRestClassifier\n",
        "\n",
        "ovr_model = OneVsRestClassifier(DecisionTreeClassifier())\n",
        "ovr_model.fit(X_train, y_train)\n",
        "\n",
        "print(\"OvR Strategy Accuracy:\", ovr_model.score(X_test, y_test))\n"
      ],
      "metadata": {
        "colab": {
          "base_uri": "https://localhost:8080/"
        },
        "id": "Jn1O4IGHcXcP",
        "outputId": "d976eb94-353b-4aef-fe48-122acdf5227a"
      },
      "execution_count": 12,
      "outputs": [
        {
          "output_type": "stream",
          "name": "stdout",
          "text": [
            "OvR Strategy Accuracy: 1.0\n"
          ]
        }
      ]
    },
    {
      "cell_type": "code",
      "source": [
        "# 10. Write a Python program to train a Decision Tree Classifier and display the feature importance scores.\n",
        "\n",
        "model = DecisionTreeClassifier()\n",
        "model.fit(X_train, y_train)\n",
        "\n",
        "print(\"Feature Importances:\", model.feature_importances_)\n"
      ],
      "metadata": {
        "colab": {
          "base_uri": "https://localhost:8080/"
        },
        "id": "HsFYcIUmcXT4",
        "outputId": "85a656d2-2527-424d-b3f2-cdf3e4ca73d5"
      },
      "execution_count": 13,
      "outputs": [
        {
          "output_type": "stream",
          "name": "stdout",
          "text": [
            "Feature Importances: [0.03822004 0.         0.53816374 0.42361622]\n"
          ]
        }
      ]
    },
    {
      "cell_type": "code",
      "source": [
        "# 11. Write a Python program to train a Decision Tree Regressor with max_depth=5 and compare its performance with an unrestricted tree.\n",
        "\n",
        "# Max depth 5\n",
        "regressor_depth5 = DecisionTreeRegressor(max_depth=5)\n",
        "regressor_depth5.fit(X_train, y_train)\n",
        "mse_depth5 = mean_squared_error(y_test, regressor_depth5.predict(X_test))\n",
        "\n",
        "# Fully grown\n",
        "regressor_full = DecisionTreeRegressor()\n",
        "regressor_full.fit(X_train, y_train)\n",
        "mse_full = mean_squared_error(y_test, regressor_full.predict(X_test))\n",
        "\n",
        "print(f\"MSE with max_depth=5: {mse_depth5}\")\n",
        "print(f\"MSE with full tree: {mse_full}\")\n"
      ],
      "metadata": {
        "colab": {
          "base_uri": "https://localhost:8080/"
        },
        "id": "7Uq_NPsqcXLE",
        "outputId": "a44470f5-5d1d-46b1-b4db-772a96af9499"
      },
      "execution_count": 14,
      "outputs": [
        {
          "output_type": "stream",
          "name": "stdout",
          "text": [
            "MSE with max_depth=5: 0.0\n",
            "MSE with full tree: 0.0\n"
          ]
        }
      ]
    },
    {
      "cell_type": "code",
      "source": [
        "# 12. Write a Python program to train a Decision Tree Classifier, apply Cost Complexity Pruning (CCP), and visualize its effect on accuracy.\n",
        "import matplotlib.pyplot as plt # Import matplotlib.pyplot\n",
        "\n",
        "path = model.cost_complexity_pruning_path(X_train, y_train)\n",
        "ccp_alphas = path.ccp_alphas\n",
        "\n",
        "train_scores = []\n",
        "test_scores = []\n",
        "\n",
        "for ccp_alpha in ccp_alphas:\n",
        "    model_pruned = DecisionTreeClassifier(ccp_alpha=ccp_alpha)\n",
        "    model_pruned.fit(X_train, y_train)\n",
        "    train_scores.append(model_pruned.score(X_train, y_train))\n",
        "    test_scores.append(model_pruned.score(X_test, y_test))\n",
        "\n",
        "plt.figure()\n",
        "plt.plot(ccp_alphas, train_scores, label='Train Accuracy')\n",
        "plt.plot(ccp_alphas, test_scores, label='Test Accuracy')\n",
        "plt.xlabel('ccp_alpha')\n",
        "plt.ylabel('Accuracy')\n",
        "plt.title('Effect of CCP Pruning')\n",
        "plt.legend()\n",
        "plt.show()"
      ],
      "metadata": {
        "colab": {
          "base_uri": "https://localhost:8080/",
          "height": 472
        },
        "id": "IfJcn3sZcXCd",
        "outputId": "bbb1c7c3-abbc-49f2-f88c-f405514e1fc9"
      },
      "execution_count": 20,
      "outputs": [
        {
          "output_type": "display_data",
          "data": {
            "text/plain": [
              "<Figure size 640x480 with 1 Axes>"
            ],
            "image/png": "[encoded data removed]"
          },
          "metadata": {}
        }
      ]
    },
    {
      "cell_type": "code",
      "source": [
        "# 13. Write a Python program to train a Decision Tree Classifier and evaluate its performance using Precision, Recall, and F1-Score.\n",
        "\n",
        "from sklearn.metrics import precision_score, recall_score, f1_score\n",
        "\n",
        "model = DecisionTreeClassifier()\n",
        "model.fit(X_train, y_train)\n",
        "y_pred = model.predict(X_test)\n",
        "\n",
        "precision = precision_score(y_test, y_pred, average='macro')\n",
        "recall = recall_score(y_test, y_pred, average='macro')\n",
        "f1 = f1_score(y_test, y_pred, average='macro')\n",
        "\n",
        "print(f\"Precision: {precision}\")\n",
        "print(f\"Recall: {recall}\")\n",
        "print(f\"F1-Score: {f1}\")\n"
      ],
      "metadata": {
        "colab": {
          "base_uri": "https://localhost:8080/"
        },
        "id": "WCZztE6ocW5o",
        "outputId": "2b72b2a3-8546-46cf-e67d-94f83caf0490"
      },
      "execution_count": 16,
      "outputs": [
        {
          "output_type": "stream",
          "name": "stdout",
          "text": [
            "Precision: 1.0\n",
            "Recall: 1.0\n",
            "F1-Score: 1.0\n"
          ]
        }
      ]
    },
    {
      "cell_type": "code",
      "source": [
        "# 14. Write a Python program to train a Decision Tree Classifier and visualize the confusion matrix using seaborn.\n",
        "\n",
        "import seaborn as sns\n",
        "from sklearn.metrics import confusion_matrix\n",
        "import matplotlib.pyplot as plt # Import matplotlib.pyplot\n",
        "\n",
        "model = DecisionTreeClassifier()\n",
        "model.fit(X_train, y_train)\n",
        "y_pred = model.predict(X_test)\n",
        "\n",
        "cm = confusion_matrix(y_test, y_pred)\n",
        "\n",
        "sns.heatmap(cm, annot=True, cmap='Blues', fmt='d')\n",
        "plt.xlabel('Predicted')\n",
        "plt.ylabel('Actual')\n",
        "plt.title('Confusion Matrix')\n",
        "plt.show()"
      ],
      "metadata": {
        "colab": {
          "base_uri": "https://localhost:8080/",
          "height": 472
        },
        "id": "iKJ1GZyncWv_",
        "outputId": "1865bea0-8301-43e6-ef57-131c05a79a62"
      },
      "execution_count": 19,
      "outputs": [
        {
          "output_type": "display_data",
          "data": {
            "text/plain": [
              "<Figure size 640x480 with 2 Axes>"
            ],
            "image/png": "[encoded data removed]"
          },
          "metadata": {}
        }
      ]
    },
    {
      "cell_type": "code",
      "source": [
        "# 15. Write a Python program to train a Decision Tree Classifier and use GridSearchCV to find the optimal values for max_depth and min_samples_split.\n",
        "\n",
        "from sklearn.model_selection import GridSearchCV\n",
        "\n",
        "param_grid = {\n",
        "    'max_depth': [2, 4, 6, 8, 10],\n",
        "    'min_samples_split': [2, 5, 10]\n",
        "}\n",
        "\n",
        "grid = GridSearchCV(DecisionTreeClassifier(), param_grid, cv=5)\n",
        "grid.fit(X_train, y_train)\n",
        "\n",
        "print(\"Best Parameters:\", grid.best_params_)\n",
        "print(\"Best Cross-Validation Accuracy:\", grid.best_score_)\n"
      ],
      "metadata": {
        "colab": {
          "base_uri": "https://localhost:8080/"
        },
        "id": "-znIWmoWcWnI",
        "outputId": "88df9839-ba9c-4c6a-e63b-0f8d62f6e601"
      },
      "execution_count": 18,
      "outputs": [
        {
          "output_type": "stream",
          "name": "stdout",
          "text": [
            "Best Parameters: {'max_depth': 4, 'min_samples_split': 10}\n",
            "Best Cross-Validation Accuracy: 0.9428571428571428\n"
          ]
        }
      ]
    }
  ]
}